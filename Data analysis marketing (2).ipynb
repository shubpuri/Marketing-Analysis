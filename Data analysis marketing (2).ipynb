{
 "cells": [
  {
   "cell_type": "code",
   "execution_count": 34,
   "metadata": {},
   "outputs": [],
   "source": [
    "import pandas as pd\n",
    "import matplotlib.pyplot as plt\n",
    "import seaborn as sns\n",
    "import numpy as np"
   ]
  },
  {
   "cell_type": "code",
   "execution_count": 9,
   "metadata": {},
   "outputs": [],
   "source": [
    "path= '/Users/shubpuri/Downloads/test_data_analyst/marketing.csv'"
   ]
  },
  {
   "cell_type": "code",
   "execution_count": 36,
   "metadata": {},
   "outputs": [],
   "source": [
    "data = pd.read_csv(path)\n",
    "df = data"
   ]
  },
  {
   "cell_type": "code",
   "execution_count": 39,
   "metadata": {},
   "outputs": [
    {
     "data": {
      "text/plain": [
       "(10037, 16)"
      ]
     },
     "execution_count": 39,
     "metadata": {},
     "output_type": "execute_result"
    }
   ],
   "source": [
    "df.shape"
   ]
  },
  {
   "cell_type": "code",
   "execution_count": 41,
   "metadata": {},
   "outputs": [
    {
     "data": {
      "text/html": [
       "<div>\n",
       "<style scoped>\n",
       "    .dataframe tbody tr th:only-of-type {\n",
       "        vertical-align: middle;\n",
       "    }\n",
       "\n",
       "    .dataframe tbody tr th {\n",
       "        vertical-align: top;\n",
       "    }\n",
       "\n",
       "    .dataframe thead th {\n",
       "        text-align: right;\n",
       "    }\n",
       "</style>\n",
       "<table border=\"1\" class=\"dataframe\">\n",
       "  <thead>\n",
       "    <tr style=\"text-align: right;\">\n",
       "      <th></th>\n",
       "      <th>Unnamed: 0</th>\n",
       "      <th>DoW</th>\n",
       "      <th>channel_code</th>\n",
       "    </tr>\n",
       "  </thead>\n",
       "  <tbody>\n",
       "    <tr>\n",
       "      <th>count</th>\n",
       "      <td>10037.00000</td>\n",
       "      <td>1856.000000</td>\n",
       "      <td>1856.000000</td>\n",
       "    </tr>\n",
       "    <tr>\n",
       "      <th>mean</th>\n",
       "      <td>5018.00000</td>\n",
       "      <td>2.529634</td>\n",
       "      <td>2.631466</td>\n",
       "    </tr>\n",
       "    <tr>\n",
       "      <th>std</th>\n",
       "      <td>2897.57666</td>\n",
       "      <td>1.937900</td>\n",
       "      <td>1.211340</td>\n",
       "    </tr>\n",
       "    <tr>\n",
       "      <th>min</th>\n",
       "      <td>0.00000</td>\n",
       "      <td>0.000000</td>\n",
       "      <td>1.000000</td>\n",
       "    </tr>\n",
       "    <tr>\n",
       "      <th>25%</th>\n",
       "      <td>2509.00000</td>\n",
       "      <td>1.000000</td>\n",
       "      <td>2.000000</td>\n",
       "    </tr>\n",
       "    <tr>\n",
       "      <th>50%</th>\n",
       "      <td>5018.00000</td>\n",
       "      <td>2.000000</td>\n",
       "      <td>2.000000</td>\n",
       "    </tr>\n",
       "    <tr>\n",
       "      <th>75%</th>\n",
       "      <td>7527.00000</td>\n",
       "      <td>4.000000</td>\n",
       "      <td>3.000000</td>\n",
       "    </tr>\n",
       "    <tr>\n",
       "      <th>max</th>\n",
       "      <td>10036.00000</td>\n",
       "      <td>6.000000</td>\n",
       "      <td>5.000000</td>\n",
       "    </tr>\n",
       "  </tbody>\n",
       "</table>\n",
       "</div>"
      ],
      "text/plain": [
       "        Unnamed: 0          DoW  channel_code\n",
       "count  10037.00000  1856.000000   1856.000000\n",
       "mean    5018.00000     2.529634      2.631466\n",
       "std     2897.57666     1.937900      1.211340\n",
       "min        0.00000     0.000000      1.000000\n",
       "25%     2509.00000     1.000000      2.000000\n",
       "50%     5018.00000     2.000000      2.000000\n",
       "75%     7527.00000     4.000000      3.000000\n",
       "max    10036.00000     6.000000      5.000000"
      ]
     },
     "execution_count": 41,
     "metadata": {},
     "output_type": "execute_result"
    }
   ],
   "source": [
    "df.describe()"
   ]
  },
  {
   "cell_type": "code",
   "execution_count": 45,
   "metadata": {},
   "outputs": [
    {
     "data": {
      "text/plain": [
       "Unnamed: 0                int64\n",
       "user_id                  object\n",
       "date_served              object\n",
       "marketing_channel      category\n",
       "variant                category\n",
       "converted              category\n",
       "language_displayed     category\n",
       "language_preferred     category\n",
       "age_group              category\n",
       "date_subscribed          object\n",
       "date_canceled            object\n",
       "subscribing_channel    category\n",
       "is_retained            category\n",
       "DoW                     float64\n",
       "channel_code            float64\n",
       "is_correct_lang        category\n",
       "dtype: object"
      ]
     },
     "execution_count": 45,
     "metadata": {},
     "output_type": "execute_result"
    }
   ],
   "source": [
    "data.dtypes"
   ]
  },
  {
   "cell_type": "code",
   "execution_count": 44,
   "metadata": {},
   "outputs": [],
   "source": [
    "#Transforming variables into Categorical variables just for easy analysis.\n",
    "col_names=['marketing_channel','variant','converted', 'language_displayed',\n",
    "           'language_preferred','age_group', 'subscribing_channel', 'is_retained', 'is_correct_lang']\n",
    "for col in col_names:\n",
    "    df[col] = df[col].astype('category',copy=False)\n"
   ]
  },
  {
   "cell_type": "code",
   "execution_count": 47,
   "metadata": {},
   "outputs": [
    {
     "data": {
      "text/plain": [
       "date_canceled          9460\n",
       "channel_code           8181\n",
       "DoW                    8181\n",
       "subscribing_channel    8181\n",
       "date_subscribed        8181\n",
       "date_served              16\n",
       "marketing_channel        15\n",
       "is_correct_lang           0\n",
       "is_retained               0\n",
       "age_group                 0\n",
       "language_preferred        0\n",
       "language_displayed        0\n",
       "converted                 0\n",
       "variant                   0\n",
       "user_id                   0\n",
       "Unnamed: 0                0\n",
       "dtype: int64"
      ]
     },
     "execution_count": 47,
     "metadata": {},
     "output_type": "execute_result"
    }
   ],
   "source": [
    "#Checking null values in the data.\n",
    "df.isna().sum().sort_values(ascending=False)\n"
   ]
  },
  {
   "cell_type": "code",
   "execution_count": 184,
   "metadata": {},
   "outputs": [
    {
     "data": {
      "image/png": "[encoded data removed]",
      "text/plain": [
       "<Figure size 432x288 with 1 Axes>"
      ]
     },
     "metadata": {
      "needs_background": "light"
     },
     "output_type": "display_data"
    }
   ],
   "source": [
    "#Univariate Analysis for the variable converted\n",
    "sns.countplot(x='converted', data=df, palette='hls')\n",
    "plt.show()\n",
    "#Over 8500 observations in the data are not being converted while only less than 1500 observations are being converted."
   ]
  },
  {
   "cell_type": "code",
   "execution_count": 193,
   "metadata": {},
   "outputs": [
    {
     "data": {
      "text/plain": [
       "False    8946\n",
       "True     1091\n",
       "Name: converted, dtype: int64"
      ]
     },
     "execution_count": 193,
     "metadata": {},
     "output_type": "execute_result"
    }
   ],
   "source": [
    "df['converted'].value_counts()"
   ]
  },
  {
   "cell_type": "code",
   "execution_count": null,
   "metadata": {},
   "outputs": [],
   "source": [
    "#### Bi-variate Analysis of the variable 'converted' with other variables ####\n"
   ]
  },
  {
   "cell_type": "code",
   "execution_count": 189,
   "metadata": {},
   "outputs": [
    {
     "data": {
      "text/plain": [
       "<matplotlib.axes._subplots.AxesSubplot at 0x1a23572f98>"
      ]
     },
     "execution_count": 189,
     "metadata": {},
     "output_type": "execute_result"
    },
    {
     "data": {
      "image/png": "[encoded data removed]",
      "text/plain": [
       "<Figure size 432x288 with 1 Axes>"
      ]
     },
     "metadata": {
      "needs_background": "light"
     },
     "output_type": "display_data"
    }
   ],
   "source": [
    "pd.crosstab(data.variant,data.converted).plot(kind='bar')\n",
    "#if the variant is personalized, there's a higher conversion rate than if the variant is control."
   ]
  },
  {
   "cell_type": "code",
   "execution_count": null,
   "metadata": {},
   "outputs": [],
   "source": []
  },
  {
   "cell_type": "code",
   "execution_count": 86,
   "metadata": {},
   "outputs": [
    {
     "data": {
      "text/plain": [
       "<matplotlib.axes._subplots.AxesSubplot at 0x1a232a7f98>"
      ]
     },
     "execution_count": 86,
     "metadata": {},
     "output_type": "execute_result"
    },
    {
     "data": {
      "image/png": "[encoded data removed]",
      "text/plain": [
       "<Figure size 432x288 with 1 Axes>"
      ]
     },
     "metadata": {
      "needs_background": "light"
     },
     "output_type": "display_data"
    }
   ],
   "source": [
    "#marketing_channel VS converted\n",
    "%matplotlib inline\n",
    "pd.crosstab(data.marketing_channel,data.converted).plot(kind='bar')\n",
    "\n",
    "#Since the below graph is has a different range for each category count, it is difficult to determine which \n",
    "#marketing channel is doing better than the other. So, we normalize each category into a same range between 0-1"
   ]
  },
  {
   "cell_type": "code",
   "execution_count": 146,
   "metadata": {},
   "outputs": [
    {
     "data": {
      "text/plain": [
       "<matplotlib.axes._subplots.AxesSubplot at 0x1a2250b5c0>"
      ]
     },
     "execution_count": 146,
     "metadata": {},
     "output_type": "execute_result"
    },
    {
     "data": {
      "image/png": "[encoded data removed]",
      "text/plain": [
       "<Figure size 576x576 with 1 Axes>"
      ]
     },
     "metadata": {
      "needs_background": "light"
     },
     "output_type": "display_data"
    }
   ],
   "source": [
    "#NORMALIZATION \n",
    "pd.crosstab(df[\"marketing_channel\"], \n",
    "                          df[\"converted\"]).apply(lambda r: r/r.sum(),axis=1).plot(kind=\"bar\", figsize=(8,8))\n",
    "\n",
    "#We can see that even though House ads has more conversion counts but Email has more conversion rate after normalizing it with respect to Non-conversions."
   ]
  },
  {
   "cell_type": "code",
   "execution_count": 190,
   "metadata": {},
   "outputs": [
    {
     "data": {
      "text/html": [
       "<div>\n",
       "<style scoped>\n",
       "    .dataframe tbody tr th:only-of-type {\n",
       "        vertical-align: middle;\n",
       "    }\n",
       "\n",
       "    .dataframe tbody tr th {\n",
       "        vertical-align: top;\n",
       "    }\n",
       "\n",
       "    .dataframe thead th {\n",
       "        text-align: right;\n",
       "    }\n",
       "</style>\n",
       "<table border=\"1\" class=\"dataframe\">\n",
       "  <thead>\n",
       "    <tr style=\"text-align: right;\">\n",
       "      <th>converted</th>\n",
       "      <th>False</th>\n",
       "      <th>True</th>\n",
       "    </tr>\n",
       "    <tr>\n",
       "      <th>language_displayed</th>\n",
       "      <th></th>\n",
       "      <th></th>\n",
       "    </tr>\n",
       "  </thead>\n",
       "  <tbody>\n",
       "    <tr>\n",
       "      <th>Arabic</th>\n",
       "      <td>15</td>\n",
       "      <td>12</td>\n",
       "    </tr>\n",
       "    <tr>\n",
       "      <th>English</th>\n",
       "      <td>8791</td>\n",
       "      <td>1002</td>\n",
       "    </tr>\n",
       "    <tr>\n",
       "      <th>German</th>\n",
       "      <td>28</td>\n",
       "      <td>53</td>\n",
       "    </tr>\n",
       "    <tr>\n",
       "      <th>Spanish</th>\n",
       "      <td>112</td>\n",
       "      <td>24</td>\n",
       "    </tr>\n",
       "  </tbody>\n",
       "</table>\n",
       "</div>"
      ],
      "text/plain": [
       "converted           False  True\n",
       "language_displayed             \n",
       "Arabic                 15    12\n",
       "English              8791  1002\n",
       "German                 28    53\n",
       "Spanish               112    24"
      ]
     },
     "execution_count": 190,
     "metadata": {},
     "output_type": "execute_result"
    }
   ],
   "source": [
    "#Language_displayed\n",
    "pd.crosstab(data.language_displayed,data.converted)\n",
    "#Since there are hardly any records for any other languages other than English, there is no point of interpretting the analysis as there is a skew in the data."
   ]
  },
  {
   "cell_type": "code",
   "execution_count": 153,
   "metadata": {},
   "outputs": [
    {
     "data": {
      "text/html": [
       "<div>\n",
       "<style scoped>\n",
       "    .dataframe tbody tr th:only-of-type {\n",
       "        vertical-align: middle;\n",
       "    }\n",
       "\n",
       "    .dataframe tbody tr th {\n",
       "        vertical-align: top;\n",
       "    }\n",
       "\n",
       "    .dataframe thead th {\n",
       "        text-align: right;\n",
       "    }\n",
       "</style>\n",
       "<table border=\"1\" class=\"dataframe\">\n",
       "  <thead>\n",
       "    <tr style=\"text-align: right;\">\n",
       "      <th>converted</th>\n",
       "      <th>False</th>\n",
       "      <th>True</th>\n",
       "    </tr>\n",
       "    <tr>\n",
       "      <th>language_preferred</th>\n",
       "      <th></th>\n",
       "      <th></th>\n",
       "    </tr>\n",
       "  </thead>\n",
       "  <tbody>\n",
       "    <tr>\n",
       "      <th>Arabic</th>\n",
       "      <td>126</td>\n",
       "      <td>19</td>\n",
       "    </tr>\n",
       "    <tr>\n",
       "      <th>English</th>\n",
       "      <td>8298</td>\n",
       "      <td>977</td>\n",
       "    </tr>\n",
       "    <tr>\n",
       "      <th>German</th>\n",
       "      <td>108</td>\n",
       "      <td>59</td>\n",
       "    </tr>\n",
       "    <tr>\n",
       "      <th>Spanish</th>\n",
       "      <td>414</td>\n",
       "      <td>36</td>\n",
       "    </tr>\n",
       "  </tbody>\n",
       "</table>\n",
       "</div>"
      ],
      "text/plain": [
       "converted           False  True\n",
       "language_preferred             \n",
       "Arabic                126    19\n",
       "English              8298   977\n",
       "German                108    59\n",
       "Spanish               414    36"
      ]
     },
     "execution_count": 153,
     "metadata": {},
     "output_type": "execute_result"
    }
   ],
   "source": [
    "#language_preferred\n",
    "pd.crosstab(data.language_preferred,data.converted)\n",
    "#Just as language_displayed, this variable is skewed with maximum records for English. So there is not enough data to interpret any results from this analysis."
   ]
  },
  {
   "cell_type": "code",
   "execution_count": 156,
   "metadata": {},
   "outputs": [
    {
     "data": {
      "text/plain": [
       "<matplotlib.axes._subplots.AxesSubplot at 0x1a213cacc0>"
      ]
     },
     "execution_count": 156,
     "metadata": {},
     "output_type": "execute_result"
    },
    {
     "data": {
      "image/png": "[encoded data removed]",
      "text/plain": [
       "<Figure size 432x288 with 1 Axes>"
      ]
     },
     "metadata": {
      "needs_background": "light"
     },
     "output_type": "display_data"
    }
   ],
   "source": [
    "#Age_group\n",
    "pd.crosstab(data.age_group,data.converted).plot(kind='bar')\n",
    "#It is hard to say which age group's conversion rate is better than the other so we normalize the conversion and non-conversion rates."
   ]
  },
  {
   "cell_type": "code",
   "execution_count": 195,
   "metadata": {},
   "outputs": [
    {
     "data": {
      "text/plain": [
       "<matplotlib.axes._subplots.AxesSubplot at 0x1a2404cb70>"
      ]
     },
     "execution_count": 195,
     "metadata": {},
     "output_type": "execute_result"
    },
    {
     "data": {
      "image/png": "[encoded data removed]",
      "text/plain": [
       "<Figure size 576x576 with 1 Axes>"
      ]
     },
     "metadata": {
      "needs_background": "light"
     },
     "output_type": "display_data"
    }
   ],
   "source": [
    "#Normalizing the age_group\n",
    "pd.crosstab(data.age_group,data.converted).apply(lambda r: r/r.sum(),axis=1).plot(kind=\"bar\", figsize=(8,8))\n",
    "#we see that, age group 19-24 has the most conversion rate."
   ]
  },
  {
   "cell_type": "code",
   "execution_count": 191,
   "metadata": {},
   "outputs": [],
   "source": [
    "#Chi-square test\n",
    "df_cat=df.select_dtypes(include=['category'])"
   ]
  },
  {
   "cell_type": "code",
   "execution_count": 192,
   "metadata": {},
   "outputs": [
    {
     "name": "stdout",
     "output_type": "stream",
     "text": [
      "converted          False  True\n",
      "marketing_channel             \n",
      "Email                372   193\n",
      "Facebook            1623   237\n",
      "House Ads           4435   298\n",
      "Instagram           1606   265\n",
      "Push                 910    83 \n",
      "\n",
      "Chi2 value= 457.40324320207543\n",
      "p-value= 1.0897121607947577e-97\n",
      "Degrees of freedom= 4\n",
      "\n",
      "converted        False  True\n",
      "variant                     \n",
      "control           4705   386\n",
      "personalization   4241   705 \n",
      "\n",
      "Chi2 value= 114.58099293038211\n",
      "p-value= 9.721344882433239e-27\n",
      "Degrees of freedom= 1\n",
      "\n",
      "converted  False  True\n",
      "converted             \n",
      "False       8946     0\n",
      "True           0  1091 \n",
      "\n",
      "Chi2 value= 10026.680883027357\n",
      "p-value= 0.0\n",
      "Degrees of freedom= 1\n",
      "\n",
      "converted           False  True\n",
      "language_displayed             \n",
      "Arabic                 15    12\n",
      "English              8791  1002\n",
      "German                 28    53\n",
      "Spanish               112    24 \n",
      "\n",
      "Chi2 value= 290.8771830218818\n",
      "p-value= 9.37783457008251e-63\n",
      "Degrees of freedom= 3\n",
      "\n",
      "converted           False  True\n",
      "language_preferred             \n",
      "Arabic                126    19\n",
      "English              8298   977\n",
      "German                108    59\n",
      "Spanish               414    36 \n",
      "\n",
      "Chi2 value= 108.77933360874522\n",
      "p-value= 2.0091847786047525e-23\n",
      "Degrees of freedom= 3\n",
      "\n",
      "converted    False  True\n",
      "age_group               \n",
      "0-18 years    1336   203\n",
      "19-24 years   1365   317\n",
      "24-30 years   1328   240\n",
      "30-36 years   1271    84\n",
      "36-45 years   1273    80\n",
      "45-55 years   1271    82\n",
      "55+ years     1102    85 \n",
      "\n",
      "Chi2 value= 264.85343008442845\n",
      "p-value= 2.7370856442427273e-54\n",
      "Degrees of freedom= 6\n",
      "\n",
      "converted            False  True\n",
      "subscribing_channel             \n",
      "Email                  123   167\n",
      "Facebook               208   237\n",
      "House Ads               56   298\n",
      "Instagram              335   265\n",
      "Push                    84    83 \n",
      "\n",
      "Chi2 value= 152.73560371271452\n",
      "p-value= 5.277707494633181e-32\n",
      "Degrees of freedom= 4\n",
      "\n",
      "converted    False  True\n",
      "is_retained             \n",
      "False          228   349\n",
      "True          8718   742 \n",
      "\n",
      "Chi2 value= 1550.0973458815067\n",
      "p-value= 0.0\n",
      "Degrees of freedom= 1\n",
      "\n",
      "converted        False  True\n",
      "is_correct_lang             \n",
      "No                 495    27\n",
      "Yes               8451  1064 \n",
      "\n",
      "Chi2 value= 17.83369451632707\n",
      "p-value= 2.410761886966768e-05\n",
      "Degrees of freedom= 1\n",
      "\n"
     ]
    }
   ],
   "source": [
    "#Now we check Categorical variables that are statistically significant( p-value < 5% )\n",
    "#We are doing this test to check if there is any variable whose presence does not affect the conversion rate at all.\n",
    "from scipy.stats import chisquare\n",
    "import scipy.stats as stats\n",
    "for series in df_cat:\n",
    "    nl = \"\\n\"\n",
    "    crosstab = pd.crosstab(df_cat[f\"{series}\"], df_cat['converted'])\n",
    "    print(crosstab, nl)\n",
    "    chi2, p, dof, expected = stats.chi2_contingency(crosstab)\n",
    "    print(f\"Chi2 value= {chi2}{nl}p-value= {p}{nl}Degrees of freedom= {dof}{nl}\")\n",
    " \n"
   ]
  },
  {
   "cell_type": "code",
   "execution_count": 179,
   "metadata": {},
   "outputs": [],
   "source": [
    "#Through the Chi-squared test, we can see that all the categorical variables are statistically significant as p-val< 0.05."
   ]
  },
  {
   "cell_type": "code",
   "execution_count": null,
   "metadata": {},
   "outputs": [],
   "source": [
    "##RESULTS OF ANALYSIS##"
   ]
  },
  {
   "cell_type": "code",
   "execution_count": 196,
   "metadata": {},
   "outputs": [
    {
     "ename": "SyntaxError",
     "evalue": "invalid syntax (<ipython-input-196-138314cd84fd>, line 1)",
     "output_type": "error",
     "traceback": [
      "\u001b[0;36m  File \u001b[0;32m\"<ipython-input-196-138314cd84fd>\"\u001b[0;36m, line \u001b[0;32m1\u001b[0m\n\u001b[0;31m    The Univariate analysis tell us that almost 89% of the observations are Not being converted.\u001b[0m\n\u001b[0m                 ^\u001b[0m\n\u001b[0;31mSyntaxError\u001b[0m\u001b[0;31m:\u001b[0m invalid syntax\n"
     ]
    }
   ],
   "source": [
    "The Univariate analysis tell us that almost 89% of the observations are Not being converted.\n",
    "Bi-variate Analysis:\n",
    "   1. If the variant is personalized instead of control, the conversion rate increases.\n",
    "   2. Marketing channel Email has the highest conversion rate while house ads have the lowest conversion rate\n",
    "   3. The language variables do not hold enough data on other languages to infer any conclusions out of it.\n",
    "   4. Age group 19-24 has the highest conversion rate while the age group 36-45 has the lowest conversion rate.\n",
    "   5. All the variables are significant in changing the state of conversion however, right now there are many NAs in the dataset and after removal, the results might differe for some variables.\n"
   ]
  },
  {
   "cell_type": "code",
   "execution_count": null,
   "metadata": {},
   "outputs": [],
   "source": [
    "Q1. In order to improve the conversion rate, the marketing team should focus on the categories which are doing well.\n",
    "    Such as, boosting the email marketing channel more than the house ads in order to use resources more efficiently.\n",
    "    Increasing the conversion rate by concentrating on the dominating age group more (but not neglecting the other groups) and creating custom market strategies for various age groups.\n",
    "\n",
    "Q2. According to the pattern, house ads and push marketing showed the lowest conversion rate in january. One of the reason for this\n",
    "could be the extreme winter climate during january month where people don't tend to stay out of their houses for long durations. Therefore, social media marketing strategy might be more effective during that month."
   ]
  }
 ],
 "metadata": {
  "kernelspec": {
   "display_name": "Python 3",
   "language": "python",
   "name": "python3"
  },
  "language_info": {
   "codemirror_mode": {
    "name": "ipython",
    "version": 3
   },
   "file_extension": ".py",
   "mimetype": "text/x-python",
   "name": "python",
   "nbconvert_exporter": "python",
   "pygments_lexer": "ipython3",
   "version": "3.7.1"
  }
 },
 "nbformat": 4,
 "nbformat_minor": 2
}
